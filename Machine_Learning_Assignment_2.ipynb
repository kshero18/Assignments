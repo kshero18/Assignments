{
  "nbformat": 4,
  "nbformat_minor": 0,
  "metadata": {
    "colab": {
      "provenance": [],
      "authorship_tag": "ABX9TyP7PrOMm8TZikIqUJ18oV7z",
      "include_colab_link": true
    },
    "kernelspec": {
      "name": "python3",
      "display_name": "Python 3"
    },
    "language_info": {
      "name": "python"
    }
  },
  "cells": [
    {
      "cell_type": "markdown",
      "metadata": {
        "id": "view-in-github",
        "colab_type": "text"
      },
      "source": [
        "<a href=\"https://colab.research.google.com/github/kshero18/Assignments-ML/blob/main/Machine_Learning_Assignment_2.ipynb\" target=\"_parent\"><img src=\"https://colab.research.google.com/assets/colab-badge.svg\" alt=\"Open In Colab\"/></a>"
      ]
    },
    {
      "cell_type": "code",
      "execution_count": null,
      "metadata": {
        "id": "DXHEC3HcEKsz"
      },
      "outputs": [],
      "source": [
        "!pip3 install yellowbrick\n",
        "!sudo apt-get update\n",
        "!sudo apt-get install python3-tk\n",
        "!sudo apt–fix-broken install\n",
        "!pip3 install yellowbrick\n",
        "!pip3 install -U yellowbrick\n",
        "!pip3 install -U scikit-learn\n",
        "#!conda install -c districtdatalabs yellowbrick"
      ]
    },
    {
      "cell_type": "code",
      "source": [
        "import sklearn.metrics._classification\n",
        "import sklearn\n",
        "from sklearn.cluster import KMeans\n",
        "from sklearn.datasets import make_blobs\n",
        "from yellowbrick.cluster import KElbowVisualizer\n",
        "from yellowbrick.classifier import ConfusionMatrix\n",
        "from sklearn.metrics import ConfusionMatrixDisplay\n",
        "from sklearn.metrics import top_k_accuracy_score\n",
        "\n",
        "import matplotlib.pyplot as plt\n",
        "from sklearn.datasets import make_classification\n",
        "from sklearn.metrics import ConfusionMatrixDisplay\n",
        "from sklearn.model_selection import train_test_split\n",
        "from sklearn.svm import SVC\n",
        "import numpy as np\n",
        "import matplotlib.pyplot as plt\n",
        "from sklearn.metrics import accuracy_score\n",
        "\n",
        "\n",
        "#from sklearn.datasets.samples_generator import make_blobs\n",
        "\n",
        "X, y_true = make_blobs(n_samples=300, centers=4,\n",
        "                       cluster_std=0.60, random_state=0)\n",
        "\n",
        "\n",
        "# TODO determine the best k for k-means\n",
        "# TODO calculate accuracy for best K\n",
        "# TODO draw a confusion matrix"
      ],
      "metadata": {
        "id": "GgOC9wO9kThd"
      },
      "execution_count": 91,
      "outputs": []
    },
    {
      "cell_type": "code",
      "source": [
        "# TODO determine the best k for k-means\n",
        "\n",
        "model = KMeans()\n",
        "visualizer = KElbowVisualizer(model, k=(1,20),timings = False)\n",
        "visualizer.fit(X)        # Fit the data to the visualizer\n",
        "visualizer.show()        # Finalize and render the figure"
      ],
      "metadata": {
        "colab": {
          "base_uri": "https://localhost:8080/",
          "height": 393
        },
        "id": "-r9LtM2LnueL",
        "outputId": "e93720ce-49a9-494c-847d-26549e95cf3d"
      },
      "execution_count": 92,
      "outputs": [
        {
          "output_type": "display_data",
          "data": {
            "text/plain": [
              "<Figure size 576x396 with 1 Axes>"
            ],
            "image/png": "[encoded data removed]"
          },
          "metadata": {}
        },
        {
          "output_type": "execute_result",
          "data": {
            "text/plain": [
              "<matplotlib.axes._subplots.AxesSubplot at 0x7f1d1b3d1590>"
            ]
          },
          "metadata": {},
          "execution_count": 92
        }
      ]
    },
    {
      "cell_type": "code",
      "source": [
        "#####Testing purpose\n",
        "\n",
        "#from sklearn.datasets import load_digits\n",
        "#from sklearn.model_selection import train_test_split as tts\n",
        "#from sklearn.linear_model import LogisticRegression\n",
        "#from yellowbrick.classifier import ConfusionMatrix\n",
        "#from sklearn.cluster import KMeans\n",
        "# We'll use the handwritten digits data set from scikit-learn.\n",
        "# Each feature of this dataset is an 8x8 pixel image of a handwritten number.\n",
        "# Digits.data converts these 64 pixels into a single array of features\n",
        "#digits = load_digits()\n",
        "#X = digits.data\n",
        "#y = digits.target\n",
        "\n",
        "#X.shape\n",
        "#X = X.reshape(-1,1)\n",
        "#y_true.shape\n",
        "#y_true = y_true.reshape(-1,1)\n",
        "\n",
        "#X_train, X_test, y_true_train, y_true_test = tts(X, y_true, random_state=0)\n",
        "#model = LogisticRegression(multi_class=\"auto\", solver=\"liblinear\")\n",
        "# The ConfusionMatrix visualizer taxes a model\n",
        "#cm = ConfusionMatrix(model, classes=[0,1,2,3,4,5,6,7,8,9])\n",
        "# Fit fits the passed model. This is unnecessary if you pass the visualizer a pre-fitted␣˓→model\n",
        "#cm.fit(X_train, y_true_train)\n",
        "# To create the ConfusionMatrix, we need some test data. Score runs predict() on the data\n",
        "# and then creates the confusion_matrix from scikit-learn.\n",
        "#cm.score(X_test, y_true_test)\n",
        "# How did we do?\n",
        "#cm.show()"
      ],
      "metadata": {
        "id": "T_DmKX51WJY6"
      },
      "execution_count": null,
      "outputs": []
    },
    {
      "cell_type": "code",
      "source": [
        "# TODO determine the best k for k-means\n",
        "from sklearn.datasets import make_blobs\n",
        "\n",
        "# Create dataset with 3 random cluster centers and 1000 datapoints\n",
        "\n",
        "# Reference : \n",
        "#1. https://stackoverflow.com/questions/51709878/what-does-n-features-and-centers-parameters-mean-in-make-blobs-in-scikit \n",
        "#2. https://medium.com/analytics-vidhya/how-to-determine-the-optimal-k-for-k-means-708505d204eb\n",
        "# The above explains what the make blobs function is used for and how to use it. \n",
        "\n",
        "x, y = make_blobs(n_samples = 300, centers = 4, n_features=2, shuffle=True, random_state=31)\n",
        "\n",
        "model = KMeans()\n",
        "print(model)\n",
        "visualizer = KElbowVisualizer(model, k=(1,20),timings = False)\n",
        "print(visualizer)\n",
        "visualizer.fit(X)        # Fit the data to the visualizer\n",
        "visualizer.show()        # Finalize and render the figure"
      ],
      "metadata": {
        "id": "MRv42aSXdtC8"
      },
      "execution_count": null,
      "outputs": []
    },
    {
      "cell_type": "code",
      "source": [
        "# TODO calculate accuracy for best K\n",
        "from sklearn.cluster import KMeans\n",
        "X, y_true = make_blobs(n_samples=300, centers=4,\n",
        "                       cluster_std=0.60, random_state=0)\n",
        "X_train, X_test, y_train, y_test = train_test_split(X, y_true)\n",
        "model = KMeans()\n",
        "model.fit(X_train, y_train)\n",
        "y_pred = model.predict(X_test)\n",
        "acc = accuracy_score(y_test, y_pred) * 100\n",
        "print('accuracy: {}%'.format(acc))\n",
        "\n",
        "print(\"Shape of X train data: \" , X_train.shape)\n",
        "print(\"Shape of X test data: \" , X_test.shape)\n",
        "print(\"Shape of y train data: \" , y_train.shape)\n",
        "print(\"Shape of y test data: \" , y_test.shape)\n",
        "#y_true = y_true.reshape(-1, 1)\n",
        "#print(y_test.shape)\n",
        "#print(y_true.shape)\n",
        "#y_pred.shape"
      ],
      "metadata": {
        "id": "ZePEpLADd-Zd",
        "colab": {
          "base_uri": "https://localhost:8080/"
        },
        "outputId": "a4bfc5b8-da1a-40f2-ef50-56b5ea2185da"
      },
      "execution_count": 119,
      "outputs": [
        {
          "output_type": "stream",
          "name": "stdout",
          "text": [
            "accuracy: 30.666666666666664%\n",
            "Shape of X train data:  (225, 2)\n",
            "Shape of X test data:  (75, 2)\n",
            "Shape of y train data:  (225,)\n",
            "Shape of y test data:  (75,)\n"
          ]
        }
      ]
    },
    {
      "cell_type": "code",
      "source": [
        "from sklearn.metrics import confusion_matrix\n",
        "from sklearn import svm, datasets\n",
        "from sklearn.model_selection import train_test_split\n",
        "from sklearn.metrics import ConfusionMatrixDisplay\n",
        "#disp = confusion_matrix(X,y_pred)"
      ],
      "metadata": {
        "id": "XpfhQmklfbqi"
      },
      "execution_count": 95,
      "outputs": []
    },
    {
      "cell_type": "code",
      "source": [
        "#import numpy\n",
        "#print(y_pred.shape)\n",
        "#y_pred = y_pred.reshape(y_pred.shape[:1])\n",
        "#y_pred = y_pred.transpose()\n",
        "#numpy.transpose(y_pred)  \n",
        "\n",
        "#import pandas as pd\n",
        "#df1 = pd.DataFrame(data=y_pred)\n",
        "#df1_transposed = df1.T\n",
        "#print(df1_transposed.shape)\n",
        "#df2 = pd.DataFrame(data=y_true)\n",
        "#df2.shape\n",
        "\n",
        "#y_pred = y_pred.values.reshape((75,1))\n",
        "#y_true = y_true.values.reshape((1,300))\n",
        "#print(y_pred.shape)\n",
        "#print(y_true.shape)\n",
        "\n",
        "#y_true.shape\n",
        "#y_true1 = y_true.reshape(-1,1)\n",
        "#print(y_true.shape)\n",
        "\n",
        "#y_pred.shape\n",
        "#y_pred = y_pred.reshape(-1,1)\n",
        "#y_pred = y_pred.T\n",
        "#y_pred.shape"
      ],
      "metadata": {
        "id": "pjh2f5MdPCZx"
      },
      "execution_count": 87,
      "outputs": []
    },
    {
      "cell_type": "code",
      "source": [
        "# Reference : \n",
        "#1. https://www.quora.com/How-do-I-make-a-confusion-matrix-for-a-K-means-model\n",
        "#2. http://web.cse.ohio-state.edu/~stiff.4/cse3521/k-means.html\n",
        "# Confusion matrix can not be created for KMeans. Better way is to use \n",
        "\n",
        "#Still considering the Kmeans as a classifier\n",
        "\n",
        "# Checking the shape of the y_true and the y_pred\n",
        "print(\"Shape of y_true data: \" , y_true.shape)\n",
        "print(\"Shape of y_pred data: \" , y_pred.shape)\n",
        "print(\"Shape of y_true[1:76]  data: \" , y_true[1:76].shape)\n",
        "\n",
        "#y_true is of (300,) and a confusion matrix can only be formed when the rows and columns are equal. \n",
        "#Considering only the 1:76 list of y_true.\n",
        "\n",
        "\n",
        "#### NOTE: if you are able to fit the y_true then please update this code.\n",
        "\n",
        "from sklearn.metrics import confusion_matrix\n",
        "cm = confusion_matrix(y_true[1:76],y_pred)\n",
        "\n",
        "print(\"y_true data values: \" , y_true[1:76])\n",
        "print(\"y_pred data values: \" ,y_pred)\n",
        "\n",
        "# Plot confusion matrix\n",
        "plt.imshow(cm,interpolation='none',cmap='Blues')\n",
        "for (i, j), z in np.ndenumerate(cm):\n",
        "    plt.text(j, i, z, ha='center', va='center') #adding the axis labels justification\n",
        "plt.xlabel(\"kmeans label\") #x label\n",
        "plt.ylabel(\"truth label\") #y label\n",
        "plt.title(\"Confusion Matrix for 1 to 75 true values in KMeans\") #Title\n",
        "plt.show()"
      ],
      "metadata": {
        "colab": {
          "base_uri": "https://localhost:8080/",
          "height": 532
        },
        "id": "gy_DaGXag9Vl",
        "outputId": "7e5b8042-de20-4fae-a85c-9d713cc9acc2"
      },
      "execution_count": 117,
      "outputs": [
        {
          "output_type": "stream",
          "name": "stdout",
          "text": [
            "Shape of y_true data:  (300,)\n",
            "Shape of y_pred data:  (75,)\n",
            "Shape of y_true[1:76]  data:  (75,)\n",
            "y_true data values:  [3 0 3 1 1 2 0 3 3 2 3 0 3 1 0 0 1 2 2 1 1 0 2 2 0 1 0 2 0 3 3 0 3 3 3 3 3\n",
            " 2 1 0 2 0 0 2 2 3 2 3 1 2 1 3 1 1 2 3 2 3 1 3 0 3 2 2 2 3 1 3 2 0 2 3 2 2\n",
            " 3]\n",
            "y_pred data values:  [3 2 2 2 2 0 3 3 2 1 2 0 2 2 3 0 2 2 2 1 2 1 3 3 2 0 2 2 3 1 3 2 1 0 0 3 3\n",
            " 2 0 3 3 1 3 2 2 3 3 1 0 1 1 3 3 2 2 0 1 2 0 3 3 0 0 2 3 2 2 1 3 0 0 0 3 3\n",
            " 1]\n"
          ]
        },
        {
          "output_type": "display_data",
          "data": {
            "text/plain": [
              "<Figure size 576x396 with 1 Axes>"
            ],
            "image/png": "[encoded data removed]"
          },
          "metadata": {}
        }
      ]
    }
  ]
}