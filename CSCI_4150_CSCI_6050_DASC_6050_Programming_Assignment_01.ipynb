{
  "nbformat": 4,
  "nbformat_minor": 0,
  "metadata": {
    "colab": {
      "provenance": [],
      "authorship_tag": "ABX9TyOEfR9+2XNk1w8MnZQHqC68",
      "include_colab_link": true
    },
    "kernelspec": {
      "name": "python3",
      "display_name": "Python 3"
    },
    "language_info": {
      "name": "python"
    }
  },
  "cells": [
    {
      "cell_type": "markdown",
      "metadata": {
        "id": "view-in-github",
        "colab_type": "text"
      },
      "source": [
        "<a href=\"https://colab.research.google.com/github/kshero18/Assignments/blob/main/CSCI_4150_CSCI_6050_DASC_6050_Programming_Assignment_01.ipynb\" target=\"_parent\"><img src=\"https://colab.research.google.com/assets/colab-badge.svg\" alt=\"Open In Colab\"/></a>"
      ]
    },
    {
      "cell_type": "markdown",
      "source": [
        "1. Collect a set of images, both grayscale and color. The subjective visual quality of images in the collection should vary. For example, one way to achieve image variation is to include very low, low, medium, high and very high contrast images. Another way to achieve variation is to include images with low, medium, and high levels of detail. Note that these two approaches to image variation are orthogonal to each other. For example, an image in the collection can be a low-contrast color or grayscale image with very high level of detail. Keep all images in the collection the same\n",
        "size.\n",
        "\n",
        "**NOTE** :*The above task needs to be done manually.*"
      ],
      "metadata": {
        "id": "UNPlD38EDTP-"
      }
    },
    {
      "cell_type": "markdown",
      "source": [
        "2. Develop an OpenCV program to read color and grayscale images and\n",
        "display them. Then, we repeat the following process for each image in the collection using a looping construct.\n",
        "\n",
        "\n",
        "**NOTE** : *For loop yet to be implemented*"
      ],
      "metadata": {
        "id": "knLmPZx3C5S2"
      }
    },
    {
      "cell_type": "code",
      "execution_count": null,
      "metadata": {
        "id": "l22uQMFvuAhE"
      },
      "outputs": [],
      "source": [
        "!pip install opencv-python\n",
        "!pip install numpy\n",
        "!pip install matplotlib\n",
        "\n",
        "from skimage.io import imshow, imread\n",
        "from skimage.color import rgb2gray\n",
        "from skimage import img_as_ubyte, img_as_float\n",
        "from skimage.exposure import histogram, cumulative_distribution\n",
        "import skimage.io\n",
        "import skimage.viewer"
      ]
    },
    {
      "cell_type": "code",
      "source": [
        "# Python code to read COLOR image\n",
        "import cv2\n",
        "from google.colab.patches import cv2_imshow\n",
        "\n",
        "# To read image from disk, we use\n",
        "# cv2.imread function, in below method,\n",
        "img = cv2.imread(\"images.jfif\", cv2.IMREAD_COLOR)\n",
        " \n",
        "# Creating GUI window to display an image on screen\n",
        "# first Parameter is windows title (should be in string format)\n",
        "# Second Parameter is image array\n",
        "#cv2.imshow(\"image\", img)\n",
        "\n",
        "cv2_imshow(img)\n",
        "\n",
        "#print(img.shape)\n",
        " \n",
        "# To hold the window on screen, we use cv2.waitKey method\n",
        "# Once it detected the close input, it will release the control\n",
        "# To the next line\n",
        "# First Parameter is for holding screen for specified milliseconds\n",
        "# It should be positive integer. If 0 pass an parameter, then it will\n",
        "# hold the screen until user close it.\n",
        "cv2.waitKey(0)\n",
        " \n",
        "# It is for removing/deleting created GUI window from screen\n",
        "# and memory\n",
        "cv2.destroyAllWindows()"
      ],
      "metadata": {
        "id": "Uo2vKTMZuMwM"
      },
      "execution_count": null,
      "outputs": []
    },
    {
      "cell_type": "code",
      "source": [
        "#import cv2, numpy and matplotlib libraries\n",
        "import numpy as np\n",
        "import matplotlib.pyplot as plt\n",
        "import cv2 as cv\n",
        "\n",
        "img1 = cv.imread(\"images.jfif\")\n",
        "#Displaying image using plt.imshow() method\n",
        "plt.imshow(img1)"
      ],
      "metadata": {
        "id": "Nf67Octev8Vm"
      },
      "execution_count": null,
      "outputs": []
    },
    {
      "cell_type": "code",
      "source": [
        "# GRAYSCALE Image\n",
        "\n",
        "# importing cv2\n",
        "import cv2\n",
        "\n",
        "# path\n",
        "path = r'images.jfif'\n",
        "\n",
        "# Using cv2.imread() method\n",
        "# Using 0 to read image in grayscale mode\n",
        "img2 = cv2.imread(path, 0)\n",
        "\n",
        "# Displaying the image\n",
        "cv2_imshow(img2)\n",
        "cv2.waitKey(0)\n",
        "cv2.destroyAllWindows()"
      ],
      "metadata": {
        "id": "WgmrVjRPxp9X"
      },
      "execution_count": null,
      "outputs": []
    },
    {
      "cell_type": "code",
      "source": [
        "plt.figure(num=None, figsize=(8, 6), dpi=80)\n",
        "dark_image_grey = img_as_ubyte(rgb2gray(img))\n",
        "imshow(dark_image_grey);"
      ],
      "metadata": {
        "id": "jPIJuMYa1vNM"
      },
      "execution_count": null,
      "outputs": []
    },
    {
      "cell_type": "code",
      "source": [
        "freq, bins = histogram(dark_image_grey)\n",
        "plt.figure(num=None, figsize=(8, 6), dpi=100, facecolor='white')\n",
        "freq, bins = histogram(dark_image_grey)\n",
        "plt.step(bins, freq/freq.sum())\n",
        "plt.xlabel('intensity value', fontsize = 12)\n",
        "plt.ylabel('fraction of pixels', fontsize = 12);"
      ],
      "metadata": {
        "id": "8EJ7-ito2hoF"
      },
      "execution_count": null,
      "outputs": []
    },
    {
      "cell_type": "code",
      "source": [
        "target_bins = np.arange(255)\n",
        "target_freq = np.linspace(0, 1, len(target_bins))\n",
        "interpolation = np.interp(freq, target_freq, target_bins)\n",
        "dark_image_eq = img_as_ubyte(interpolation[dark_image_grey].astype(int))\n",
        "imshow(dark_image_eq);"
      ],
      "metadata": {
        "id": "aXBCMscn2tfW"
      },
      "execution_count": null,
      "outputs": []
    },
    {
      "cell_type": "code",
      "source": [
        "#Grey Image\n",
        "\n",
        "def histogram_adjuster(image):\n",
        "    dark_image_grey = img_as_ubyte(rgb2gray(image))\n",
        "    freq, bins = cumulative_distribution(dark_image_grey)\n",
        "    target_bins = np.arange(255)\n",
        "    target_freq = np.linspace(0, 1, len(target_bins))\n",
        "    interpolation = np.interp(freq, target_freq, target_bins)\n",
        "    dark_image_eq = img_as_ubyte(interpolation[dark_image_grey].astype(int))\n",
        "    freq_adj, bins_adj = cumulative_distribution(dark_image_eq)\n",
        "    \n",
        "    \n",
        "    fig, axes = plt.subplots(1, 2, figsize=(15,7));\n",
        "    imshow(dark_image_grey, ax = axes[0]);\n",
        "    imshow(dark_image_eq, ax = axes[1]);\n",
        "    \n",
        "    axes[0].axis('off')\n",
        "    axes[1].axis('off')\n",
        "    axes[0].set_title('Unadjusted Image', fontsize = 17)\n",
        "    axes[1].set_title('Adjusted Image', fontsize = 17)\n",
        "    \n",
        "    fig, axes = plt.subplots(1, 1, figsize=(19,7));\n",
        "    plt.step(bins, freq, c='blue', label='Actual CDF')\n",
        "    plt.step(bins_adj, freq_adj, c='purple', label='Adjusted CDF')\n",
        "    plt.plot(target_bins, \n",
        "             target_freq, \n",
        "             c='red', \n",
        "             label='Target CDF',\n",
        "             linestyle = '--')\n",
        "    \n",
        "    plt.legend(prop={'size': 14})\n",
        "    plt.xlim(0, 255)\n",
        "    plt.ylim(0, 1)\n",
        "    plt.xlabel('Intensity values', fontsize = 15)\n",
        "    plt.ylabel('Cumulative fraction of pixels', fontsize = 15);\n",
        "\n",
        "histogram_adjuster(img)"
      ],
      "metadata": {
        "id": "4kO1mIJu4SCx"
      },
      "execution_count": null,
      "outputs": []
    },
    {
      "cell_type": "code",
      "source": [
        "#color image \n",
        "\n",
        "def histogram_adjuster_color(image):\n",
        "    freq, bins = cumulative_distribution(image)\n",
        "    target_bins = np.arange(255)\n",
        "    target_freq = np.linspace(0, 1, len(target_bins))\n",
        "    interpolation = np.interp(freq, target_freq, target_bins)\n",
        "    image_eq = img_as_ubyte(interpolation[image].astype(int))\n",
        "    freq_adj, bins_adj = cumulative_distribution(image_eq)\n",
        "    \n",
        "    \n",
        "    fig, axes = plt.subplots(1, 2, figsize=(15,7));\n",
        "    imshow(image, ax = axes[0]);\n",
        "    imshow(image_eq, ax = axes[1]);\n",
        "    \n",
        "    axes[0].axis('off')\n",
        "    axes[1].axis('off')\n",
        "    axes[0].set_title('Unadjusted Image', fontsize = 17)\n",
        "    axes[1].set_title('Adjusted Image', fontsize = 17)\n",
        "    \n",
        "    fig, axes = plt.subplots(1, 1, figsize=(19,7));\n",
        "    plt.step(bins, freq, c='blue', label='Actual CDF')\n",
        "    plt.step(bins_adj, freq_adj, c='purple', label='Adjusted CDF')\n",
        "    plt.plot(target_bins, \n",
        "             target_freq, \n",
        "             c='red', \n",
        "             label='Target CDF',\n",
        "             linestyle = '--')\n",
        "    \n",
        "    plt.legend(prop={'size': 15})\n",
        "    plt.xlim(0, 255)\n",
        "    plt.ylim(0, 1)\n",
        "    plt.xlabel('Intensity values', fontsize = 17)\n",
        "    plt.ylabel('Cumulative fraction of pixels', fontsize = 17);\n",
        "\n",
        "img2 = cv.imread(\"WhatsApp Image 2022-08-10 at 10.14.54 AM.jpeg\")\n",
        "histogram_adjuster_color(img)"
      ],
      "metadata": {
        "id": "Ts-laNqL4s6R"
      },
      "execution_count": null,
      "outputs": []
    },
    {
      "cell_type": "code",
      "source": [
        "import seaborn\n",
        "from scipy.stats import binom\n",
        "data=binom.rvs(n=17,p=0.7,loc=0,size=1010)\n",
        "ax=seaborn.distplot(data,\n",
        "                kde=True,\n",
        "                color='pink',\n",
        "                hist_kws={\"linewidth\": 22,'alpha':0.77})\n",
        "ax.set(xlabel='Binomial',ylabel='Frequency')"
      ],
      "metadata": {
        "id": "r5EED0CY6Iuh"
      },
      "execution_count": null,
      "outputs": []
    },
    {
      "cell_type": "markdown",
      "source": [
        "3. Using equation 1, compute the probability distribution for the image. En-\n",
        "sure that the sum of probabilities in the distribution sum to one (equation 2)"
      ],
      "metadata": {
        "id": "y6ellByqCrdM"
      }
    },
    {
      "cell_type": "code",
      "source": [
        "#probability_z_k =n_k/(M*N)\n",
        "\n",
        "print(img.shape)\n",
        "size = np.array(img).shape\n",
        "print(size)"
      ],
      "metadata": {
        "id": "vRNE7lF37Ae6"
      },
      "execution_count": null,
      "outputs": []
    },
    {
      "cell_type": "code",
      "source": [
        "zero = skimage.io.imread(\"images.jfif\")\n",
        "zero[2,1,1]= 1.0\n",
        "\"\"\"\n",
        "The follwing line of code creates a new figure for imshow to use in displaying our output. Without it, plt.imshow() would overwrite our previous image in the cell above\n",
        "\"\"\"\n",
        "fig, ax = plt.subplots()\n",
        "plt.imshow(zero)\n",
        "print(zero)"
      ],
      "metadata": {
        "id": "F4yIEnsE93h5"
      },
      "execution_count": null,
      "outputs": []
    },
    {
      "cell_type": "code",
      "source": [
        "##Extracting the Pixels of the image\n",
        "\n",
        "from PIL import Image\n",
        " \n",
        "# creating a image object\n",
        "im = Image.open(r\"images.jfif\")\n",
        "\n",
        "#px = im.load()\n",
        "#print (px[4, 4])\n",
        "#px[4, 4] = (0, 0, 0)\n",
        "#print (px[4, 4])\n",
        "#coordinate = x, y = 150, 59\n",
        " \n",
        "# using getpixel method\n",
        "#print (im.getpixel(coordinate));\n",
        "\n",
        "pix_val = list(im.getdata())\n",
        "pix_val_flat = [x for sets in pix_val for x in sets]\n",
        "\n",
        "print(pix_val_flat)"
      ],
      "metadata": {
        "id": "1SozwmcEBmUi"
      },
      "execution_count": null,
      "outputs": []
    }
  ]
}